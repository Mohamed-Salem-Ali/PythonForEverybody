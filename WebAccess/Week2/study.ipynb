{
 "cells": [
  {
   "cell_type": "code",
   "execution_count": 13,
   "id": "superior-cooler",
   "metadata": {},
   "outputs": [],
   "source": [
    "import re\n",
    "import numpy as np"
   ]
  },
  {
   "cell_type": "code",
   "execution_count": 9,
   "id": "tough-action",
   "metadata": {},
   "outputs": [],
   "source": [
    "file1=open('regex_sum_1016914.txt')\n",
    "file2=file1.read()"
   ]
  },
  {
   "cell_type": "code",
   "execution_count": 16,
   "id": "silent-recognition",
   "metadata": {},
   "outputs": [],
   "source": [
    "x = re.findall('[0-9]+',file2)"
   ]
  },
  {
   "cell_type": "code",
   "execution_count": 20,
   "id": "extra-gates",
   "metadata": {},
   "outputs": [
    {
     "name": "stdout",
     "output_type": "stream",
     "text": [
      "512688\n"
     ]
    }
   ],
   "source": [
    "sum=0\n",
    "file1=open('regex_sum_1016914.txt').read()\n",
    "numbers = re.findall('[0-9]+',file1)\n",
    "for number in numbers:\n",
    "    sum+=int(number)\n",
    "print(sum)"
   ]
  },
  {
   "cell_type": "code",
   "execution_count": 22,
   "id": "round-character",
   "metadata": {},
   "outputs": [
    {
     "ename": "SyntaxError",
     "evalue": "invalid syntax (Temp/ipykernel_4288/790861513.py, line 2)",
     "output_type": "error",
     "traceback": [
      "\u001b[1;36m  File \u001b[1;32m\"C:\\Users\\hp\\AppData\\Local\\Temp/ipykernel_4288/790861513.py\"\u001b[1;36m, line \u001b[1;32m2\u001b[0m\n\u001b[1;33m    print( sum( [ for x in re.findall('[0-9]+',open('regex_sum_1016914.txt').read()) ] ) )\u001b[0m\n\u001b[1;37m                    ^\u001b[0m\n\u001b[1;31mSyntaxError\u001b[0m\u001b[1;31m:\u001b[0m invalid syntax\n"
     ]
    }
   ],
   "source": [
    "import re\n",
    "print( sum( [ for x in re.findall('[0-9]+',open('regex_sum_1016914.txt').read()) ] ) )"
   ]
  },
  {
   "cell_type": "code",
   "execution_count": null,
   "id": "eastern-welcome",
   "metadata": {},
   "outputs": [],
   "source": []
  }
 ],
 "metadata": {
  "kernelspec": {
   "display_name": "Python 3 (ipykernel)",
   "language": "python",
   "name": "python3"
  },
  "language_info": {
   "codemirror_mode": {
    "name": "ipython",
    "version": 3
   },
   "file_extension": ".py",
   "mimetype": "text/x-python",
   "name": "python",
   "nbconvert_exporter": "python",
   "pygments_lexer": "ipython3",
   "version": "3.7.3"
  }
 },
 "nbformat": 4,
 "nbformat_minor": 5
}
